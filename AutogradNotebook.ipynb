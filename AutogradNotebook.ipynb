{
 "cells": [
  {
   "cell_type": "code",
   "execution_count": 1,
   "id": "ccfe1d4d",
   "metadata": {},
   "outputs": [],
   "source": [
    "import numpy as np"
   ]
  },
  {
   "cell_type": "code",
   "execution_count": 18,
   "id": "531e00d1",
   "metadata": {},
   "outputs": [],
   "source": [
    "class Value:\n",
    "    \"\"\" Содержит число и его градиент \"\"\"\n",
    "\n",
    "    def __init__(self, data, _children=(), _op=''):\n",
    "        self.data = data\n",
    "        self.grad = 0\n",
    "        \n",
    "        # Внутренние переменные для построения графа вычислений и подсчёта производных\n",
    "        self._backward = lambda: None\n",
    "        self._prev = set(_children)\n",
    "        self._op = _op # название операции (строка)\n",
    "\n",
    "    # self * other\n",
    "    def __mul__(self, other):\n",
    "        # если умножение происходит с объектом другого типа (не Value), то попытаться сделать из него Value\n",
    "        other = other if isinstance(other, Value) else Value(other)\n",
    "        \n",
    "        # тут задаётся выходное значение операции\n",
    "        out = Value(self.data * other.data, (self, other), '*')\n",
    "\n",
    "        # тут задаётся функция передачи градиента через эту операцию\n",
    "        def _backward():\n",
    "            \n",
    "            # подсчёт градиента для текущей переменной\n",
    "            self.grad += other.data * out.grad\n",
    "        \n",
    "            # подсчёт градиента для её множителя\n",
    "            other.grad += self.data * out.grad\n",
    "        \n",
    "        out._backward = _backward\n",
    "        return out\n",
    "\n",
    "    # self + other\n",
    "    def __add__(self, other):\n",
    "        other = other if isinstance(other, Value) else Value(other)\n",
    "        \n",
    "        # задайте выходное значение операции\n",
    "        out = Value(self.data + other.data, (self, other), '+')\n",
    "\n",
    "        # задайте функцию передачи градиента\n",
    "        def _backward():\n",
    "            self.grad += 1 * out.grad\n",
    "            other.grad += 1 * out.grad\n",
    "        \n",
    "        out._backward = _backward\n",
    "        return out\n",
    "    \n",
    "    # self ** other\n",
    "    def __pow__(self, other):\n",
    "        assert isinstance(other, (int, float)), \"only supporting int/float powers for now\"\n",
    "        \n",
    "        # задайте выходное значение операции\n",
    "        out = Value(self.data ** other, (self,), '^')\n",
    "\n",
    "        # задайте функцию передачи градиента\n",
    "        def _backward():\n",
    "            self.grad += other * (self.data ** (other - 1)) * out.grad\n",
    "        \n",
    "        out._backward = _backward\n",
    "        return out\n",
    "    \n",
    "    # exp(self)\n",
    "    def exp(self):\n",
    "        # задайте выходное значение операции\n",
    "        out = Value(np.exp(self.data) (self,), 'exp')\n",
    "\n",
    "        # задайте функцию передачи градиента\n",
    "        def _backward():\n",
    "            self.grad = self.data * out.grad\n",
    "        \n",
    "        out._backward = _backward\n",
    "        return out\n",
    "    \n",
    "    # sigmoid(self)\n",
    "    def sigmooid(self):\n",
    "        # задайте выходное значение операции\n",
    "        out = Value(1 / (1 + np.exp(-self.data)) (self,), 'sigm')\n",
    "\n",
    "        # задайте функцию передачи градиента\n",
    "        def _backward():\n",
    "            self.grad = out.data * (1 - out.data) * out.grad\n",
    "        \n",
    "        out._backward = _backward\n",
    "        return out\n",
    "\n",
    "    # Просчитать все градиенты по графу вычислений\n",
    "    def backward(self):\n",
    "\n",
    "        # топологическая сортировка всех элементов графа\n",
    "        # (чтобы все _backward() вызывались в нужном порядке)\n",
    "        \n",
    "        topo = []\n",
    "        visited = set()\n",
    "        def build_topo(v):\n",
    "            if v not in visited:\n",
    "                visited.add(v)\n",
    "                for child in v._prev:\n",
    "                    build_topo(child)\n",
    "                topo.append(v)\n",
    "\n",
    "        build_topo(self)\n",
    "\n",
    "        # рассчёт градиентов по графу, начиная с конца\n",
    "        self.grad = 1\n",
    "        for v in reversed(topo):\n",
    "            v._backward()\n",
    "\n",
    "    \n",
    "    # Все остальные арифметические операторы задаются через те, что определены выше\n",
    "    \n",
    "    def __neg__(self): # -self\n",
    "        return self * -1\n",
    "\n",
    "    def __radd__(self, other): # other + self\n",
    "        other = other if isinstance(other, Value) else Value(other)\n",
    "        return self + other\n",
    "\n",
    "    def __sub__(self, other): # self - other\n",
    "        other = other if isinstance(other, Value) else Value(other)\n",
    "        return self + (-other)\n",
    "\n",
    "    def __rmul__(self, other): # other * self\n",
    "        other = other if isinstance(other, Value) else Value(other)\n",
    "        return self * other\n",
    "\n",
    "    def __truediv__(self, other): # self / other\n",
    "        return self * other**-1\n",
    "\n",
    "    def __rtruediv__(self, other): # other / self\n",
    "        return other * self**-1\n",
    "\n",
    "    # Что выводить в print\n",
    "    def __repr__(self):\n",
    "        return f\"Value(data={self.data}, grad={self.grad})\""
   ]
  },
  {
   "cell_type": "code",
   "execution_count": 39,
   "id": "f6318174",
   "metadata": {},
   "outputs": [],
   "source": [
    "def random_matrix(h, w):\n",
    "    random_matrix = np.zeros(shape=(h, w), dtype=Value)\n",
    "    for i in range(h):\n",
    "        for j in range(w):\n",
    "            random_matrix[i, j] = Value(np.random.randn())\n",
    "            \n",
    "    return random_matrix"
   ]
  },
  {
   "cell_type": "code",
   "execution_count": 40,
   "id": "f61d5ce3",
   "metadata": {},
   "outputs": [],
   "source": [
    "a = Value(3)\n",
    "b = Value(5)"
   ]
  },
  {
   "cell_type": "code",
   "execution_count": 41,
   "id": "de80b063",
   "metadata": {},
   "outputs": [],
   "source": [
    "c = a ** 3\n",
    "c.backward()"
   ]
  },
  {
   "cell_type": "code",
   "execution_count": 42,
   "id": "89a1ecb7",
   "metadata": {},
   "outputs": [
    {
     "data": {
      "text/plain": [
       "Value(data=3, grad=27)"
      ]
     },
     "execution_count": 42,
     "metadata": {},
     "output_type": "execute_result"
    }
   ],
   "source": [
    "a"
   ]
  },
  {
   "cell_type": "code",
   "execution_count": 43,
   "id": "d73ca4a7",
   "metadata": {},
   "outputs": [
    {
     "data": {
      "text/plain": [
       "array([[Value(data=-1.4573069621263544, grad=0),\n",
       "        Value(data=1.4918686246953738, grad=0),\n",
       "        Value(data=1.197962789856867, grad=0),\n",
       "        Value(data=0.9248548867841742, grad=0),\n",
       "        Value(data=-1.5443119507064058, grad=0)],\n",
       "       [Value(data=-1.7489016287741932, grad=0),\n",
       "        Value(data=-1.3421141302336737, grad=0),\n",
       "        Value(data=0.05189426224196608, grad=0),\n",
       "        Value(data=-1.3732968536563033, grad=0),\n",
       "        Value(data=0.4752142093108078, grad=0)],\n",
       "       [Value(data=0.5927560143275027, grad=0),\n",
       "        Value(data=0.4381911981058708, grad=0),\n",
       "        Value(data=-0.3782364133417441, grad=0),\n",
       "        Value(data=-0.3238660563486782, grad=0),\n",
       "        Value(data=-0.9456642547444318, grad=0)]], dtype=object)"
      ]
     },
     "execution_count": 43,
     "metadata": {},
     "output_type": "execute_result"
    }
   ],
   "source": [
    "random_matrix(3, 5)"
   ]
  },
  {
   "cell_type": "code",
   "execution_count": null,
   "id": "e042a7f2",
   "metadata": {},
   "outputs": [],
   "source": []
  }
 ],
 "metadata": {
  "kernelspec": {
   "display_name": "Python 3 (ipykernel)",
   "language": "python",
   "name": "python3"
  },
  "language_info": {
   "codemirror_mode": {
    "name": "ipython",
    "version": 3
   },
   "file_extension": ".py",
   "mimetype": "text/x-python",
   "name": "python",
   "nbconvert_exporter": "python",
   "pygments_lexer": "ipython3",
   "version": "3.10.2"
  }
 },
 "nbformat": 4,
 "nbformat_minor": 5
}
